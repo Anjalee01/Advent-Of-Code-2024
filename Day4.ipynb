{
  "nbformat": 4,
  "nbformat_minor": 0,
  "metadata": {
    "colab": {
      "provenance": [],
      "authorship_tag": "ABX9TyMOL8VzKPAdXvHdoyd8d6Oc",
      "include_colab_link": true
    },
    "kernelspec": {
      "name": "python3",
      "display_name": "Python 3"
    },
    "language_info": {
      "name": "python"
    }
  },
  "cells": [
    {
      "cell_type": "markdown",
      "metadata": {
        "id": "view-in-github",
        "colab_type": "text"
      },
      "source": [
        "<a href=\"https://colab.research.google.com/github/Anjalee01/Advent-Of-Code-2024/blob/main/Day4.ipynb\" target=\"_parent\"><img src=\"https://colab.research.google.com/assets/colab-badge.svg\" alt=\"Open In Colab\"/></a>"
      ]
    },
    {
      "cell_type": "code",
      "execution_count": null,
      "metadata": {
        "colab": {
          "base_uri": "https://localhost:8080/"
        },
        "id": "uKWbKd-1SlMh",
        "outputId": "0fa2ffee-c8e7-45b7-9935-61bf7d58f4d3"
      },
      "outputs": [
        {
          "output_type": "stream",
          "name": "stdout",
          "text": [
            "Total occurrences of 'XMAS': 2599\n"
          ]
        }
      ],
      "source": [
        "def read_input(filename):\n",
        "    with open(filename, 'r') as file:\n",
        "        return [line.strip() for line in file.readlines()]\n",
        "\n",
        "# Directions: (row_step, col_step)\n",
        "DIRECTIONS = [\n",
        "    (0, 1),    # Horizontal (right)\n",
        "    (0, -1),   # Horizontal (left)\n",
        "    (1, 0),    # Vertical (down)\n",
        "    (-1, 0),   # Vertical (up)\n",
        "    (1, 1),    # Diagonal (down-right)\n",
        "    (1, -1),   # Diagonal (down-left)\n",
        "    (-1, 1),   # Diagonal (up-right)\n",
        "    (-1, -1)   # Diagonal (up-left)\n",
        "]\n",
        "\n",
        "def find_word(grid, word):\n",
        "    rows, cols = len(grid), len(grid[0])\n",
        "    word_len = len(word)\n",
        "    count = 0\n",
        "\n",
        "    def search_direction(r, c, dr, dc):\n",
        "        \"\"\"Search for the word starting at (r, c) in the (dr, dc) direction.\"\"\"\n",
        "        for i in range(word_len):\n",
        "            nr, nc = r + i * dr, c + i * dc\n",
        "            if nr < 0 or nr >= rows or nc < 0 or nc >= cols or grid[nr][nc] != word[i]:\n",
        "                return False\n",
        "        return True\n",
        "\n",
        "    for row in range(rows):\n",
        "        for col in range(cols):\n",
        "            if grid[row][col] == word[0]:\n",
        "                # Check all directions\n",
        "                for dr, dc in DIRECTIONS:\n",
        "                    if search_direction(row, col, dr, dc):\n",
        "                        count += 1\n",
        "\n",
        "    return count\n",
        "\n",
        "# Read the grid from the input file\n",
        "grid = read_input('input.txt')\n",
        "\n",
        "# Find occurrences of \"XMAS\"\n",
        "word = \"XMAS\"\n",
        "total_occurrences = find_word(grid, word)\n",
        "\n",
        "print(f\"Total occurrences of '{word}':\", total_occurrences)\n"
      ]
    },
    {
      "cell_type": "code",
      "source": [
        "def count_x_mas_patterns(grid):\n",
        "    rows, cols = len(grid), len(grid[0])\n",
        "    count = 0\n",
        "\n",
        "    # Helper function to check if a diagonal matches MAS\n",
        "    def check_diagonal(r, c, dr1, dc1, dr2, dc2):\n",
        "        try:\n",
        "            # Check one MAS diagonal (M-S) and the reverse (S-M)\n",
        "            if (grid[r + dr1][c + dc1] == 'M' and\n",
        "                grid[r][c] == 'A' and\n",
        "                grid[r + dr2][c + dc2] == 'S'):\n",
        "                return True\n",
        "            if (grid[r + dr1][c + dc1] == 'S' and\n",
        "                grid[r][c] == 'A' and\n",
        "                grid[r + dr2][c + dc2] == 'M'):\n",
        "                return True\n",
        "        except IndexError:\n",
        "            pass\n",
        "        return False\n",
        "\n",
        "    # Traverse the grid to find the center of the X\n",
        "    for r in range(1, rows - 1):\n",
        "        for c in range(1, cols - 1):\n",
        "            # Check for the center 'A'\n",
        "            if grid[r][c] == 'A':\n",
        "                # Check for the top-left and bottom-right MAS\n",
        "                if (check_diagonal(r, c, -1, -1, 1, 1) and\n",
        "                    check_diagonal(r, c, -1, 1, 1, -1)):\n",
        "                    count += 1\n",
        "\n",
        "    return count\n",
        "\n",
        "# Read the input grid from the file 'input.txt'\n",
        "with open('input.txt', 'r') as file:\n",
        "    grid = [line.strip() for line in file.readlines()]\n",
        "\n",
        "# Find and print the number of X-MAS patterns\n",
        "result = count_x_mas_patterns(grid)\n",
        "print(result)\n"
      ],
      "metadata": {
        "colab": {
          "base_uri": "https://localhost:8080/"
        },
        "id": "x36Vg7y8TpUF",
        "outputId": "bbb41070-b9aa-4352-cb40-2f5deed65def"
      },
      "execution_count": null,
      "outputs": [
        {
          "output_type": "stream",
          "name": "stdout",
          "text": [
            "1948\n"
          ]
        }
      ]
    }
  ]
}