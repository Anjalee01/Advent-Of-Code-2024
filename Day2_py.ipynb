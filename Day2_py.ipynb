{
  "nbformat": 4,
  "nbformat_minor": 0,
  "metadata": {
    "colab": {
      "provenance": [],
      "authorship_tag": "ABX9TyPsr1TBLbE1Qn5UnEGNb3/P",
      "include_colab_link": true
    },
    "kernelspec": {
      "name": "python3",
      "display_name": "Python 3"
    },
    "language_info": {
      "name": "python"
    }
  },
  "cells": [
    {
      "cell_type": "markdown",
      "metadata": {
        "id": "view-in-github",
        "colab_type": "text"
      },
      "source": [
        "<a href=\"https://colab.research.google.com/github/Anjalee01/Advent-Of-Code-2024/blob/main/Day2_py.ipynb\" target=\"_parent\"><img src=\"https://colab.research.google.com/assets/colab-badge.svg\" alt=\"Open In Colab\"/></a>"
      ]
    },
    {
      "cell_type": "code",
      "execution_count": null,
      "metadata": {
        "colab": {
          "base_uri": "https://localhost:8080/"
        },
        "id": "D8BhTYQHIm34",
        "outputId": "5a4ebccf-1159-44c9-e70b-9796779f7b92"
      },
      "outputs": [
        {
          "output_type": "stream",
          "name": "stdout",
          "text": [
            "Number of safe reports: 490\n"
          ]
        }
      ],
      "source": [
        "# DAY2 Part1\n",
        "def is_safe_report(report):\n",
        "    # Check if the report is strictly increasing or strictly decreasing\n",
        "    increasing = all(1 <= report[i+1] - report[i] <= 3 for i in range(len(report)-1))\n",
        "    decreasing = all(1 <= report[i] - report[i+1] <= 3 for i in range(len(report)-1))\n",
        "    return increasing or decreasing\n",
        "\n",
        "def count_safe_reports(file_path):\n",
        "    safe_count = 0\n",
        "    with open(file_path, 'r') as file:\n",
        "        for line in file:\n",
        "            # Convert the line into a list of integers (levels)\n",
        "            report = list(map(int, line.strip().split()))\n",
        "            # Check if the report is safe and count it\n",
        "            if is_safe_report(report):\n",
        "                safe_count += 1\n",
        "    return safe_count\n",
        "\n",
        "# Specify the input file path\n",
        "file_path = 'input.txt'\n",
        "\n",
        "# Count and print the number of safe reports\n",
        "safe_reports = count_safe_reports(file_path)\n",
        "print(f\"Number of safe reports: {safe_reports}\")\n"
      ]
    },
    {
      "cell_type": "code",
      "source": [
        "def is_safe_report(report):\n",
        "    # Check if the report is strictly increasing or strictly decreasing\n",
        "    increasing = all(1 <= report[i+1] - report[i] <= 3 for i in range(len(report)-1))\n",
        "    decreasing = all(1 <= report[i] - report[i+1] <= 3 for i in range(len(report)-1))\n",
        "    return increasing or decreasing\n",
        "\n",
        "def can_be_safe_by_removing_one(report):\n",
        "    # Try removing each level and check if the resulting report is safe\n",
        "    for i in range(len(report)):\n",
        "        modified_report = report[:i] + report[i+1:]  # Remove the ith element\n",
        "        if is_safe_report(modified_report):\n",
        "            return True\n",
        "    return False\n",
        "\n",
        "def count_safe_reports(file_path):\n",
        "    safe_count = 0\n",
        "    with open(file_path, 'r') as file:\n",
        "        for line in file:\n",
        "            # Convert the line into a list of integers (levels)\n",
        "            report = list(map(int, line.strip().split()))\n",
        "            # Check if the report is safe or can be made safe by removing one level\n",
        "            if is_safe_report(report) or can_be_safe_by_removing_one(report):\n",
        "                safe_count += 1\n",
        "    return safe_count\n",
        "\n",
        "# Specify the input file path\n",
        "file_path = 'input.txt'\n",
        "\n",
        "# Count and print the number of safe reports\n",
        "safe_reports = count_safe_reports(file_path)\n",
        "print(f\"Number of safe reports (with Problem Dampener): {safe_reports}\")\n"
      ],
      "metadata": {
        "colab": {
          "base_uri": "https://localhost:8080/"
        },
        "id": "sRdlFgE2JB7A",
        "outputId": "21c97156-14d9-4c89-d2ec-4dbc0d8dc95a"
      },
      "execution_count": null,
      "outputs": [
        {
          "output_type": "stream",
          "name": "stdout",
          "text": [
            "Number of safe reports (with Problem Dampener): 536\n"
          ]
        }
      ]
    }
  ]
}