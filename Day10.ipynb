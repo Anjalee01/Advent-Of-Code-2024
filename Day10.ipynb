{
  "nbformat": 4,
  "nbformat_minor": 0,
  "metadata": {
    "colab": {
      "provenance": [],
      "gpuType": "T4",
      "authorship_tag": "ABX9TyO+6XjyA/wn6pLKaA9OYxxc",
      "include_colab_link": true
    },
    "kernelspec": {
      "name": "python3",
      "display_name": "Python 3"
    },
    "language_info": {
      "name": "python"
    },
    "accelerator": "GPU"
  },
  "cells": [
    {
      "cell_type": "markdown",
      "metadata": {
        "id": "view-in-github",
        "colab_type": "text"
      },
      "source": [
        "<a href=\"https://colab.research.google.com/github/Anjalee01/Advent-Of-Code-2024/blob/main/Day10.ipynb\" target=\"_parent\"><img src=\"https://colab.research.google.com/assets/colab-badge.svg\" alt=\"Open In Colab\"/></a>"
      ]
    },
    {
      "cell_type": "code",
      "execution_count": null,
      "metadata": {
        "colab": {
          "base_uri": "https://localhost:8080/"
        },
        "id": "wKy--F5gux0l",
        "outputId": "e69b60ac-062a-487c-b968-534ec4460e11"
      },
      "outputs": [
        {
          "output_type": "stream",
          "name": "stdout",
          "text": [
            "Total score of all trailheads: 659\n"
          ]
        }
      ],
      "source": [
        "from collections import deque\n",
        "\n",
        "# Directions for moving up, down, left, right\n",
        "directions = [(-1, 0), (1, 0), (0, -1), (0, 1)]\n",
        "\n",
        "def read_map(file_path):\n",
        "    # Read the map from the file and return it as a list of lists of integers\n",
        "    with open(file_path, 'r') as file:\n",
        "        return [list(map(int, line.strip())) for line in file.readlines()]\n",
        "\n",
        "def bfs(map_data, start_row, start_col):\n",
        "    # Perform BFS to count reachable 9's from a trailhead (start point)\n",
        "    rows, cols = len(map_data), len(map_data[0])\n",
        "    queue = deque([(start_row, start_col)])\n",
        "    visited = set([(start_row, start_col)])\n",
        "    reachable_nines = 0\n",
        "\n",
        "    while queue:\n",
        "        row, col = queue.popleft()\n",
        "\n",
        "        # If we reach a height of 9, increment the count\n",
        "        if map_data[row][col] == 9:\n",
        "            reachable_nines += 1\n",
        "\n",
        "        # Explore neighbors (up, down, left, right)\n",
        "        for dr, dc in directions:\n",
        "            new_row, new_col = row + dr, col + dc\n",
        "            if 0 <= new_row < rows and 0 <= new_col < cols:\n",
        "                # Only move to positions with height exactly one more than current\n",
        "                if (new_row, new_col) not in visited and map_data[new_row][new_col] == map_data[row][col] + 1:\n",
        "                    visited.add((new_row, new_col))\n",
        "                    queue.append((new_row, new_col))\n",
        "\n",
        "    return reachable_nines\n",
        "\n",
        "def calculate_sum_of_scores(file_path):\n",
        "    map_data = read_map(file_path)\n",
        "    rows, cols = len(map_data), len(map_data[0])\n",
        "    total_score = 0\n",
        "\n",
        "    # Loop through all positions to find trailheads (height 0)\n",
        "    for row in range(rows):\n",
        "        for col in range(cols):\n",
        "            if map_data[row][col] == 0:\n",
        "                # From each trailhead, run BFS and add the score\n",
        "                score = bfs(map_data, row, col)\n",
        "                total_score += score\n",
        "\n",
        "    return total_score\n",
        "\n",
        "# Path to the input file\n",
        "file_path = 'input.txt'\n",
        "\n",
        "# Calculate the total score and print the result\n",
        "total_score = calculate_sum_of_scores(file_path)\n",
        "print(f\"Total score of all trailheads: {total_score}\")\n"
      ]
    },
    {
      "cell_type": "code",
      "source": [
        "def parse_map(file_path):\n",
        "    \"\"\"\n",
        "    Reads the topographic map from the input file and converts it into a 2D list of integers.\n",
        "    \"\"\"\n",
        "    with open(file_path, 'r') as file:\n",
        "        return [list(map(int, line.strip())) for line in file]\n",
        "\n",
        "def dfs_count_trails(topographic_map, r, c):\n",
        "    \"\"\"\n",
        "    Depth-first search to count distinct hiking trails that begin at (r, c) and end at 9.\n",
        "    \"\"\"\n",
        "    rows, cols = len(topographic_map), len(topographic_map[0])\n",
        "    directions = [(-1, 0), (1, 0), (0, -1), (0, 1)]\n",
        "    stack = [(r, c, [(r, c)])]  # stack holds (row, col, current_path)\n",
        "    trails = set()  # To track distinct paths ending at 9\n",
        "\n",
        "    while stack:\n",
        "        cr, cc, path = stack.pop()\n",
        "        current_height = topographic_map[cr][cc]\n",
        "\n",
        "        # If we reach a height of 9, add the trail\n",
        "        if current_height == 9:\n",
        "            trails.add(tuple(path))\n",
        "            continue\n",
        "\n",
        "        # Explore neighbors\n",
        "        for dr, dc in directions:\n",
        "            nr, nc = cr + dr, cc + dc\n",
        "            if 0 <= nr < rows and 0 <= nc < cols:\n",
        "                next_height = topographic_map[nr][nc]\n",
        "                if next_height == current_height + 1 and (nr, nc) not in path:\n",
        "                    stack.append((nr, nc, path + [(nr, nc)]))\n",
        "\n",
        "    return len(trails)\n",
        "\n",
        "def calculate_trailhead_ratings(topographic_map):\n",
        "    \"\"\"\n",
        "    Calculates the sum of ratings for all trailheads in the topographic map.\n",
        "    \"\"\"\n",
        "    rows, cols = len(topographic_map), len(topographic_map[0])\n",
        "    total_rating = 0\n",
        "\n",
        "    for r in range(rows):\n",
        "        for c in range(cols):\n",
        "            if topographic_map[r][c] == 0:  # Found a trailhead\n",
        "                rating = dfs_count_trails(topographic_map, r, c)\n",
        "                total_rating += rating\n",
        "\n",
        "    return total_rating\n",
        "\n",
        "def main():\n",
        "    \"\"\"\n",
        "    Main function to load the map, compute ratings, and display the result.\n",
        "    \"\"\"\n",
        "    file_path = \"input.txt\"  # Ensure input.txt is in the same directory\n",
        "    topographic_map = parse_map(file_path)\n",
        "    total_rating = calculate_trailhead_ratings(topographic_map)\n",
        "    print(f\"Total sum of trailhead ratings: {total_rating}\")\n",
        "\n",
        "if __name__ == \"__main__\":\n",
        "    main()\n"
      ],
      "metadata": {
        "colab": {
          "base_uri": "https://localhost:8080/"
        },
        "id": "zopqlbF0xK1m",
        "outputId": "f9057585-5745-420f-858b-f13a9cf6a8e4"
      },
      "execution_count": null,
      "outputs": [
        {
          "output_type": "stream",
          "name": "stdout",
          "text": [
            "Total sum of trailhead ratings: 1463\n"
          ]
        }
      ]
    }
  ]
}