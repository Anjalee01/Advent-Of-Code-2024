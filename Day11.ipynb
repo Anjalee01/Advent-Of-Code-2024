{
  "nbformat": 4,
  "nbformat_minor": 0,
  "metadata": {
    "colab": {
      "provenance": [],
      "gpuType": "T4",
      "authorship_tag": "ABX9TyO4lBWFZat+Bw+xpEUf29Rx",
      "include_colab_link": true
    },
    "kernelspec": {
      "name": "python3",
      "display_name": "Python 3"
    },
    "language_info": {
      "name": "python"
    },
    "accelerator": "GPU"
  },
  "cells": [
    {
      "cell_type": "markdown",
      "metadata": {
        "id": "view-in-github",
        "colab_type": "text"
      },
      "source": [
        "<a href=\"https://colab.research.google.com/github/Anjalee01/Advent-Of-Code-2024/blob/main/Day11.ipynb\" target=\"_parent\"><img src=\"https://colab.research.google.com/assets/colab-badge.svg\" alt=\"Open In Colab\"/></a>"
      ]
    },
    {
      "cell_type": "code",
      "execution_count": null,
      "metadata": {
        "id": "3yCnSnboqrgd",
        "colab": {
          "base_uri": "https://localhost:8080/"
        },
        "outputId": "50f91489-2ac5-43b4-ec66-bcaa3fdef869"
      },
      "outputs": [
        {
          "output_type": "stream",
          "name": "stdout",
          "text": [
            "199986\n"
          ]
        }
      ],
      "source": [
        "def split_stone(n):\n",
        "    \"\"\"Splits a stone with even digits into two stones.\"\"\"\n",
        "    n_str = str(n)\n",
        "    mid = len(n_str) // 2\n",
        "    left_part = int(n_str[:mid])\n",
        "    right_part = int(n_str[mid:])\n",
        "    return [left_part, right_part]\n",
        "\n",
        "def process_stones(stones):\n",
        "    \"\"\"Process the stones according to the given rules.\"\"\"\n",
        "    new_stones = []\n",
        "    for stone in stones:\n",
        "        if stone == 0:\n",
        "            # Rule 1: If the stone is 0, it becomes 1\n",
        "            new_stones.append(1)\n",
        "        elif len(str(stone)) % 2 == 0:\n",
        "            # Rule 2: If the stone has an even number of digits, split it\n",
        "            new_stones.extend(split_stone(stone))\n",
        "        else:\n",
        "            # Rule 3: Otherwise, multiply by 2024\n",
        "            new_stones.append(stone * 2024)\n",
        "    return new_stones\n",
        "\n",
        "def main():\n",
        "    # Read the input file\n",
        "    with open(\"input.txt\", \"r\") as file:\n",
        "        # Stones are space-separated integers on the first line\n",
        "        stones = list(map(int, file.readline().strip().split()))\n",
        "\n",
        "    # Simulate 25 blinks\n",
        "    for _ in range(25):\n",
        "        stones = process_stones(stones)\n",
        "\n",
        "    # Output the number of stones after 25 blinks\n",
        "    print(len(stones))\n",
        "\n",
        "if __name__ == \"__main__\":\n",
        "    main()\n"
      ]
    },
    {
      "cell_type": "code",
      "source": [
        "def simulate_blinks_count(stones, num_blinks):\n",
        "    \"\"\"\n",
        "    Simulate the evolution of stones by counting their behavior.\n",
        "    \"\"\"\n",
        "    from collections import Counter\n",
        "    # Count the initial stones\n",
        "    stone_counts = Counter(stones)  # {stone_value: count}\n",
        "\n",
        "    for _ in range(num_blinks):\n",
        "        new_counts = Counter()\n",
        "        for stone, count in stone_counts.items():\n",
        "            if stone == 0:\n",
        "                new_counts[1] += count\n",
        "            elif len(str(stone)) % 2 == 0:  # Even number of digits\n",
        "                stone_str = str(stone)\n",
        "                mid = len(stone_str) // 2\n",
        "                left = int(stone_str[:mid])\n",
        "                right = int(stone_str[mid:])\n",
        "                new_counts[left] += count\n",
        "                new_counts[right] += count\n",
        "            else:\n",
        "                new_counts[stone * 2024] += count\n",
        "        stone_counts = new_counts\n",
        "\n",
        "    # Total number of stones\n",
        "    return sum(stone_counts.values())\n",
        "\n",
        "\n",
        "def main():\n",
        "    # Read initial stones from input.txt\n",
        "    file_path = \"input.txt\"\n",
        "    with open(file_path, 'r') as file:\n",
        "        content = file.read().strip()\n",
        "\n",
        "    # Extract initial stones (assume they are space-separated integers)\n",
        "    initial_stones = list(map(int, content.split()))\n",
        "\n",
        "    # Simulate blinks\n",
        "    num_blinks = 75\n",
        "    total_stones = simulate_blinks_count(initial_stones, num_blinks)\n",
        "\n",
        "    # Output the number of stones\n",
        "    print(\"Number of stones after 75 blinks:\", total_stones)\n",
        "\n",
        "\n",
        "if __name__ == \"__main__\":\n",
        "    main()"
      ],
      "metadata": {
        "id": "50Ku-3wHysyG",
        "colab": {
          "base_uri": "https://localhost:8080/"
        },
        "outputId": "983c784d-a0a8-40bb-b4ff-3d9c30ad2d09"
      },
      "execution_count": null,
      "outputs": [
        {
          "output_type": "stream",
          "name": "stdout",
          "text": [
            "Number of stones after 75 blinks: 236804088748754\n"
          ]
        }
      ]
    }
  ]
}