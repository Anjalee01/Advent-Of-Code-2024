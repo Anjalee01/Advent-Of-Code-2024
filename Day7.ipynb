{
  "nbformat": 4,
  "nbformat_minor": 0,
  "metadata": {
    "colab": {
      "provenance": [],
      "gpuType": "T4",
      "authorship_tag": "ABX9TyNG61VhHVRa0D8UbI7vaGAE",
      "include_colab_link": true
    },
    "kernelspec": {
      "name": "python3",
      "display_name": "Python 3"
    },
    "language_info": {
      "name": "python"
    },
    "accelerator": "GPU"
  },
  "cells": [
    {
      "cell_type": "markdown",
      "metadata": {
        "id": "view-in-github",
        "colab_type": "text"
      },
      "source": [
        "<a href=\"https://colab.research.google.com/github/Anjalee01/Advent-Of-Code-2024/blob/main/Day7.ipynb\" target=\"_parent\"><img src=\"https://colab.research.google.com/assets/colab-badge.svg\" alt=\"Open In Colab\"/></a>"
      ]
    },
    {
      "cell_type": "code",
      "execution_count": null,
      "metadata": {
        "colab": {
          "base_uri": "https://localhost:8080/"
        },
        "id": "92iAOpGFZE9N",
        "outputId": "e55aa6ec-8956-4b9f-ab64-a1eb6def6519"
      },
      "outputs": [
        {
          "output_type": "stream",
          "name": "stdout",
          "text": [
            "Total Calibration Result: 1399219271639\n"
          ]
        }
      ],
      "source": [
        "import itertools\n",
        "\n",
        "def parse_input(file_path):\n",
        "    \"\"\"Parse the input file to extract equations and their test values.\"\"\"\n",
        "    with open(file_path, 'r') as file:\n",
        "        equations = []\n",
        "        for line in file:\n",
        "            test_value, numbers = line.split(':')\n",
        "            test_value = int(test_value.strip())\n",
        "            numbers = list(map(int, numbers.strip().split()))\n",
        "            equations.append((test_value, numbers))\n",
        "    return equations\n",
        "\n",
        "def evaluate_expression(numbers, operators):\n",
        "    \"\"\"Evaluate an expression using the numbers and operators.\"\"\"\n",
        "    result = numbers[0]\n",
        "    for i in range(1, len(numbers)):\n",
        "        if operators[i-1] == '+':\n",
        "            result += numbers[i]\n",
        "        elif operators[i-1] == '*':\n",
        "            result *= numbers[i]\n",
        "    return result\n",
        "\n",
        "def valid_equations(equations):\n",
        "    \"\"\"Determine which equations can be made true by inserting operators.\"\"\"\n",
        "    total_sum = 0\n",
        "\n",
        "    # For each equation\n",
        "    for test_value, numbers in equations:\n",
        "        # Generate all possible combinations of operators (+, *)\n",
        "        possible_operators = itertools.product(['+', '*'], repeat=len(numbers) - 1)\n",
        "\n",
        "        # Check all combinations\n",
        "        for operators in possible_operators:\n",
        "            result = evaluate_expression(numbers, operators)\n",
        "            if result == test_value:\n",
        "                total_sum += test_value\n",
        "                break  # If we found a valid combination, no need to check further for this equation\n",
        "\n",
        "    return total_sum\n",
        "\n",
        "# File path to input file\n",
        "file_path = 'input.txt'\n",
        "\n",
        "# Parse the input\n",
        "equations = parse_input(file_path)\n",
        "\n",
        "# Calculate the total sum of valid calibration results\n",
        "total_calibration_sum = valid_equations(equations)\n",
        "\n",
        "# Print the result\n",
        "print(\"Total Calibration Result:\", total_calibration_sum)\n"
      ]
    },
    {
      "cell_type": "code",
      "source": [
        "import itertools\n",
        "\n",
        "def parse_input(file_path):\n",
        "    \"\"\"Parse the input file to extract equations and their test values.\"\"\"\n",
        "    with open(file_path, 'r') as file:\n",
        "        equations = []\n",
        "        for line in file:\n",
        "            test_value, numbers = line.split(':')\n",
        "            test_value = int(test_value.strip())\n",
        "            numbers = list(map(int, numbers.strip().split()))\n",
        "            equations.append((test_value, numbers))\n",
        "    return equations\n",
        "\n",
        "def evaluate_expression(numbers, operators):\n",
        "    \"\"\"Evaluate an expression using the numbers and operators (including ||).\"\"\"\n",
        "    result = numbers[0]\n",
        "    for i in range(1, len(numbers)):\n",
        "        if operators[i-1] == '+':\n",
        "            result += numbers[i]\n",
        "        elif operators[i-1] == '*':\n",
        "            result *= numbers[i]\n",
        "        elif operators[i-1] == '||':\n",
        "            # Concatenate the numbers as strings, then convert to an integer\n",
        "            result = int(str(result) + str(numbers[i]))\n",
        "    return result\n",
        "\n",
        "def valid_equations(equations):\n",
        "    \"\"\"Determine which equations can be made true by inserting operators.\"\"\"\n",
        "    total_sum = 0\n",
        "\n",
        "    # For each equation\n",
        "    for test_value, numbers in equations:\n",
        "        # Generate all possible combinations of operators (+, *, ||)\n",
        "        possible_operators = itertools.product(['+', '*', '||'], repeat=len(numbers) - 1)\n",
        "\n",
        "        # Check all combinations\n",
        "        for operators in possible_operators:\n",
        "            result = evaluate_expression(numbers, operators)\n",
        "            if result == test_value:\n",
        "                total_sum += test_value\n",
        "                break  # If we found a valid combination, no need to check further for this equation\n",
        "\n",
        "    return total_sum\n",
        "\n",
        "# File path to input file\n",
        "file_path = 'input.txt'\n",
        "\n",
        "# Parse the input\n",
        "equations = parse_input(file_path)\n",
        "\n",
        "# Calculate the total sum of valid calibration results\n",
        "total_calibration_sum = valid_equations(equations)\n",
        "\n",
        "# Print the result\n",
        "print(\"Total Calibration Result:\", total_calibration_sum)\n"
      ],
      "metadata": {
        "colab": {
          "base_uri": "https://localhost:8080/"
        },
        "id": "WOrzsX9iac70",
        "outputId": "7479e22d-247a-466c-b0c1-a733c7edaca2"
      },
      "execution_count": null,
      "outputs": [
        {
          "output_type": "stream",
          "name": "stdout",
          "text": [
            "Total Calibration Result: 275791737999003\n"
          ]
        }
      ]
    }
  ]
}