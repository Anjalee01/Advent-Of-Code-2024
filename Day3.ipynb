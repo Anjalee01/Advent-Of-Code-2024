{
  "nbformat": 4,
  "nbformat_minor": 0,
  "metadata": {
    "colab": {
      "provenance": [],
      "authorship_tag": "ABX9TyO11Ddbv4nZMNU2eDVkW2SG",
      "include_colab_link": true
    },
    "kernelspec": {
      "name": "python3",
      "display_name": "Python 3"
    },
    "language_info": {
      "name": "python"
    }
  },
  "cells": [
    {
      "cell_type": "markdown",
      "metadata": {
        "id": "view-in-github",
        "colab_type": "text"
      },
      "source": [
        "<a href=\"https://colab.research.google.com/github/Anjalee01/Advent-Of-Code-2024/blob/main/Day3.ipynb\" target=\"_parent\"><img src=\"https://colab.research.google.com/assets/colab-badge.svg\" alt=\"Open In Colab\"/></a>"
      ]
    },
    {
      "cell_type": "code",
      "execution_count": null,
      "metadata": {
        "colab": {
          "base_uri": "https://localhost:8080/"
        },
        "id": "k9FQkwdyklAM",
        "outputId": "9541bb52-1ce0-418f-a82e-226fb72a3d03"
      },
      "outputs": [
        {
          "output_type": "stream",
          "name": "stdout",
          "text": [
            "The total sum of valid multiplications is: 167090022\n"
          ]
        }
      ],
      "source": [
        "import re\n",
        "\n",
        "# Function to find and sum valid mul(X,Y) instructions\n",
        "def sum_valid_multiplications(file_path):\n",
        "    with open(file_path, 'r') as file:\n",
        "        # Read the content of the file\n",
        "        data = file.read()\n",
        "\n",
        "    # Regular expression to match valid mul(X,Y) instructions\n",
        "    pattern = r'mul\\(\\s*(\\d{1,3})\\s*,\\s*(\\d{1,3})\\s*\\)'\n",
        "\n",
        "    # Find all matches of the pattern\n",
        "    matches = re.findall(pattern, data)\n",
        "\n",
        "    total_sum = 0\n",
        "\n",
        "    # Iterate over each match and perform the multiplication\n",
        "    for match in matches:\n",
        "        x, y = map(int, match)\n",
        "        total_sum += x * y\n",
        "\n",
        "    return total_sum\n",
        "\n",
        "# File path to input.txt\n",
        "file_path = 'input.txt'\n",
        "\n",
        "# Get the sum of valid multiplications\n",
        "result = sum_valid_multiplications(file_path)\n",
        "\n",
        "# Output the result\n",
        "print(f\"The total sum of valid multiplications is: {result}\")\n"
      ]
    },
    {
      "cell_type": "code",
      "source": [
        "def process_input(filename):\n",
        "    # Read input from the file\n",
        "    with open(filename, 'r') as file:\n",
        "        input_data = file.read()\n",
        "\n",
        "    # Variables to track whether 'mul' instructions are enabled or not\n",
        "    mul_enabled = True\n",
        "    total_sum = 0\n",
        "\n",
        "    # Regular expression patterns for mul(), do(), and don't()\n",
        "    import re\n",
        "    mul_pattern = r'mul\\((\\d+),(\\d+)\\)'  # Pattern to match mul(X,Y)\n",
        "    do_pattern = r'do\\(\\)'               # Pattern to match do()\n",
        "    dont_pattern = r\"don't\\(\\)\"          # Pattern to match don't()\n",
        "\n",
        "    index = 0\n",
        "    while index < len(input_data):\n",
        "        if re.match(do_pattern, input_data[index:]):\n",
        "            mul_enabled = True  # Enable mul() instructions\n",
        "            index += len('do()')\n",
        "        elif re.match(dont_pattern, input_data[index:]):\n",
        "            mul_enabled = False  # Disable mul() instructions\n",
        "            index += len(\"don't()\")\n",
        "        else:\n",
        "            # Check for mul(X,Y)\n",
        "            mul_match = re.match(mul_pattern, input_data[index:])\n",
        "            if mul_match:\n",
        "                x, y = int(mul_match.group(1)), int(mul_match.group(2))\n",
        "                if mul_enabled:\n",
        "                    # Add the result of multiplication to total_sum if mul is enabled\n",
        "                    total_sum += x * y\n",
        "                index += len(mul_match.group(0))  # Move past the mul() instruction\n",
        "            else:\n",
        "                # If no pattern matches, just move forward\n",
        "                index += 1\n",
        "\n",
        "    return total_sum\n",
        "\n",
        "\n",
        "# Call the function and process the input from 'input.txt'\n",
        "filename = 'input.txt'\n",
        "result = process_input(filename)\n",
        "\n",
        "# Print the sum of enabled multiplications\n",
        "print(result)\n"
      ],
      "metadata": {
        "colab": {
          "base_uri": "https://localhost:8080/"
        },
        "id": "I5t9DE2-l368",
        "outputId": "498b7a29-5e88-4b40-94c5-e05cd5910ddb"
      },
      "execution_count": null,
      "outputs": [
        {
          "output_type": "stream",
          "name": "stdout",
          "text": [
            "89823704\n"
          ]
        }
      ]
    }
  ]
}