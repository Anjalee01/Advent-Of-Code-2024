{
  "nbformat": 4,
  "nbformat_minor": 0,
  "metadata": {
    "colab": {
      "provenance": [],
      "authorship_tag": "ABX9TyOI88ZGikTX6gX4iVLrFtdx",
      "include_colab_link": true
    },
    "kernelspec": {
      "name": "python3",
      "display_name": "Python 3"
    },
    "language_info": {
      "name": "python"
    }
  },
  "cells": [
    {
      "cell_type": "markdown",
      "metadata": {
        "id": "view-in-github",
        "colab_type": "text"
      },
      "source": [
        "<a href=\"https://colab.research.google.com/github/Anjalee01/Advent-Of-Code-2024/blob/main/Day16.ipynb\" target=\"_parent\"><img src=\"https://colab.research.google.com/assets/colab-badge.svg\" alt=\"Open In Colab\"/></a>"
      ]
    },
    {
      "cell_type": "code",
      "execution_count": null,
      "metadata": {
        "colab": {
          "base_uri": "https://localhost:8080/"
        },
        "id": "MHlNPG3QOYJJ",
        "outputId": "9eca38ae-579c-4c21-c763-87aa213d00d5"
      },
      "outputs": [
        {
          "output_type": "stream",
          "name": "stdout",
          "text": [
            "Answer 1: 143564\n",
            "Answer 2: 593\n"
          ]
        }
      ],
      "source": [
        "with open(\"input.txt\", \"r\", encoding=\"utf-8\") as f:\n",
        "    input_list = f.read().splitlines()\n",
        "\n",
        "answer1 = 0\n",
        "answer2 = 0\n",
        "\n",
        "start = (0, 0)\n",
        "end = (0, 0)\n",
        "reindeer = ()\n",
        "maze = {}\n",
        "cur_dir = (0, 1)\n",
        "for i, line in enumerate(input_list):\n",
        "    for j, char in enumerate(line):\n",
        "        maze[(i, j)] = char\n",
        "        if char == \"S\":\n",
        "            start = (i, j)\n",
        "            reindeer = (i, j)\n",
        "        if char == \"E\":\n",
        "            end = (i, j)\n",
        "\n",
        "visited = dict()\n",
        "paths = [[0, cur_dir, start]]\n",
        "all_paths = []\n",
        "for _ in range(1000):\n",
        "    temp_paths = []\n",
        "    for path in sorted(paths):\n",
        "        score = path[0]\n",
        "        cur_dir = path[1]\n",
        "        x, y = path[-1]\n",
        "        for i, j in [(0, 1), (0, -1), (1, 0), (-1, 0)]:\n",
        "            if (x + i, y + j) not in maze:\n",
        "                continue\n",
        "            if maze[(x + i, y + j)] == \"#\":\n",
        "                continue\n",
        "            temp = list(path)\n",
        "            temp.append((x + i, y + j))\n",
        "            temp[1] = (i, j)\n",
        "            temp[0] += 1\n",
        "            if cur_dir != (i, j):\n",
        "                temp[0] += 1000\n",
        "            if ((x + i, y + j), (i, j)) in visited and visited[\n",
        "                ((x + i, y + j), (i, j))\n",
        "            ] < temp[0]:\n",
        "                continue\n",
        "            visited[((x + i, y + j), (i, j))] = temp[0]\n",
        "            temp_paths.append(temp)\n",
        "            if end in temp:\n",
        "                all_paths.append(temp)\n",
        "    paths = temp_paths\n",
        "answer1 = min(\n",
        "    visited.get((end, (0, 1)), max(visited.values())),\n",
        "    visited.get((end, (0, -1)), max(visited.values())),\n",
        "    visited.get((end, (1, 0)), max(visited.values())),\n",
        "    visited.get((end, (-1, 0)), max(visited.values())),\n",
        ")\n",
        "print(\"Answer 1:\", answer1)\n",
        "\n",
        "best_paths = [x for x in all_paths if x[0] == answer1]\n",
        "best_tiles = set()\n",
        "for best_path in best_paths:\n",
        "    for path in best_path[2:]:\n",
        "        best_tiles.add(path)\n",
        "answer2 = len(best_tiles)\n",
        "print(\"Answer 2:\", answer2)"
      ]
    }
  ]
}