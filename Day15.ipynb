{
  "nbformat": 4,
  "nbformat_minor": 0,
  "metadata": {
    "colab": {
      "provenance": [],
      "authorship_tag": "ABX9TyMpk7BsMm3pd6xTNjbNtrIz",
      "include_colab_link": true
    },
    "kernelspec": {
      "name": "python3",
      "display_name": "Python 3"
    },
    "language_info": {
      "name": "python"
    }
  },
  "cells": [
    {
      "cell_type": "markdown",
      "metadata": {
        "id": "view-in-github",
        "colab_type": "text"
      },
      "source": [
        "<a href=\"https://colab.research.google.com/github/Anjalee01/Advent-Of-Code-2024/blob/main/Day15.ipynb\" target=\"_parent\"><img src=\"https://colab.research.google.com/assets/colab-badge.svg\" alt=\"Open In Colab\"/></a>"
      ]
    },
    {
      "cell_type": "code",
      "execution_count": null,
      "metadata": {
        "colab": {
          "base_uri": "https://localhost:8080/"
        },
        "id": "0VdDdEbCLCe-",
        "outputId": "2bf6cc8c-11cf-4823-ae35-5f044a716ddd"
      },
      "outputs": [
        {
          "output_type": "stream",
          "name": "stdout",
          "text": [
            "1413675 1399772\n"
          ]
        }
      ],
      "source": [
        "with open(\"input.txt\") as f:\n",
        "    A,B=f.read().strip().split(\"\\n\\n\")\n",
        "A=A.split(\"\\n\")\n",
        "H,W=len(A),len(A[0])\n",
        "walls=set()\n",
        "boxes=set()\n",
        "px,py=0,0\n",
        "\n",
        "\n",
        "walls=set()\n",
        "boxes=set()\n",
        "px,py=0,0\n",
        "for y in range(H):\n",
        "    for x in range(W):\n",
        "        ch=A[y][x]\n",
        "        if ch==\"#\": walls.add((x,y))\n",
        "        if ch==\"O\": boxes.add((x,y))\n",
        "        if ch==\"@\": px,py=x,y\n",
        "\n",
        "def go(dx,dy):\n",
        "    global px,py\n",
        "    nx,ny=px+dx,py+dy\n",
        "    if (nx,ny) in walls:\n",
        "        return\n",
        "    if (nx,ny) not in boxes:\n",
        "        px,py=nx,ny; return\n",
        "    a,b=nx,ny\n",
        "    while (a,b) in boxes:\n",
        "        a,b=a+dx,b+dy\n",
        "    if (a,b) in walls: return\n",
        "    boxes.remove((nx,ny))\n",
        "    boxes.add((a,b))\n",
        "    px,py=nx,ny\n",
        "\n",
        "for code in B:\n",
        "    if code==\"<\": go(-1,0)\n",
        "    if code==\">\": go(1,0)\n",
        "    if code==\"^\": go(0,-1)\n",
        "    if code==\"v\": go(0,1)\n",
        "\n",
        "part1=sum(100*y+x for (x,y) in boxes)\n",
        "\n",
        "def canpush(x,y,dx,dy):\n",
        "    nx,ny=x+dx,y+dy\n",
        "    if (nx,ny) in walls:\n",
        "        return False\n",
        "    if dx==1:\n",
        "        if (nx,ny) not in boxes:\n",
        "            return True\n",
        "        return canpush(nx+1,ny,dx,dy)\n",
        "\n",
        "    if dx==-1:\n",
        "        if (nx-1,ny) not in boxes:\n",
        "            return True\n",
        "        return canpush(nx-1,ny,dx,dy)\n",
        "\n",
        "    else:\n",
        "        if (nx,ny) not in boxes and (nx-1,ny) not in boxes:\n",
        "            return True\n",
        "        if (nx,ny) in boxes: return canpush(nx,ny,dx,dy) and canpush(nx+1,ny,dx,dy)\n",
        "        if (nx-1,ny) in boxes: return canpush(nx,ny,dx,dy) and canpush(nx-1,ny,dx,dy)\n",
        "\n",
        "\n",
        "def trypush(x,y,dx,dy):\n",
        "    nx,ny=x+dx,y+dy\n",
        "    if (nx,ny) in walls:\n",
        "        return False\n",
        "    if dx==1:\n",
        "        if (nx,ny) not in boxes:\n",
        "            return True\n",
        "        ok=trypush(nx+1,ny,dx,dy)\n",
        "        if ok: boxes.remove((nx,ny)); boxes.add((nx+1,ny)); return True\n",
        "        return False\n",
        "    if dx==-1:\n",
        "        if (nx-1,ny) not in boxes:\n",
        "            return True\n",
        "        ok=trypush(nx-1,ny,dx,dy)\n",
        "        if ok: boxes.remove((nx-1,ny)); boxes.add((nx-2,ny)); return True\n",
        "        return False\n",
        "\n",
        "    else:\n",
        "        if (nx,ny) not in boxes and (nx-1,ny) not in boxes:\n",
        "            return True\n",
        "        ok1,ok2=False,False\n",
        "        if (nx,ny) in boxes: ok1= trypush(nx,ny,dx,dy) and trypush(nx+1,ny,dx,dy)\n",
        "        if (nx-1,ny) in boxes: ok2= trypush(nx-1,ny,dx,dy) and trypush(nx,ny,dx,dy)\n",
        "        if ok1:boxes.remove((nx,ny)); boxes.add((nx+dx,ny+dy)); return True\n",
        "        if ok2:boxes.remove((nx-1,ny)); boxes.add((nx-1+dx,ny+dy)); return True\n",
        "        return False\n",
        "\n",
        "walls=set()\n",
        "boxes=set()\n",
        "for y in range(H):\n",
        "    for x in range(W):\n",
        "        ch=A[y][x]\n",
        "        if ch==\"#\": walls.add((2*x,y));walls.add((2*x+1,y))\n",
        "        if ch==\"O\": boxes.add((2*x,y))\n",
        "        if ch==\"@\": px,py=2*x,y\n",
        "\n",
        "\n",
        "for i,code in enumerate(B):\n",
        "        if code==\"<\" and canpush(px,py,-1,0): trypush(px,py,-1,0);px-=1\n",
        "        if code==\">\" and canpush(px,py,1,0):trypush(px,py,1,0);px+=1\n",
        "        if code==\"^\" and canpush(px,py,0,-1):trypush(px,py,0,-1);py-=1\n",
        "        if code==\"v\" and canpush(px,py,0,1):trypush(px,py,0,1);py+=1\n",
        "\n",
        "part2=sum(100*y+x for (x,y) in boxes)\n",
        "print(part1,part2)"
      ]
    }
  ]
}