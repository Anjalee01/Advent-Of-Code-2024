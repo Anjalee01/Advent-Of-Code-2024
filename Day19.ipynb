{
  "nbformat": 4,
  "nbformat_minor": 0,
  "metadata": {
    "colab": {
      "provenance": [],
      "gpuType": "T4",
      "authorship_tag": "ABX9TyNyRmWVCNDwenl/3bVyhfzi",
      "include_colab_link": true
    },
    "kernelspec": {
      "name": "python3",
      "display_name": "Python 3"
    },
    "language_info": {
      "name": "python"
    },
    "accelerator": "GPU"
  },
  "cells": [
    {
      "cell_type": "markdown",
      "metadata": {
        "id": "view-in-github",
        "colab_type": "text"
      },
      "source": [
        "<a href=\"https://colab.research.google.com/github/Anjalee01/Advent-Of-Code-2024/blob/main/Day19.ipynb\" target=\"_parent\"><img src=\"https://colab.research.google.com/assets/colab-badge.svg\" alt=\"Open In Colab\"/></a>"
      ]
    },
    {
      "cell_type": "code",
      "execution_count": 2,
      "metadata": {
        "id": "c5faLrt_zrAW",
        "colab": {
          "base_uri": "https://localhost:8080/"
        },
        "outputId": "b07a2e71-54c1-47c0-8a99-46dbe9bb7eea"
      },
      "outputs": [
        {
          "output_type": "stream",
          "name": "stdout",
          "text": [
            "Number of possible designs: 251\n"
          ]
        }
      ],
      "source": [
        "from collections import Counter\n",
        "\n",
        "def parse_input(file_path):\n",
        "    with open(file_path, 'r') as f:\n",
        "        lines = f.read().splitlines()\n",
        "\n",
        "    # Separate towel patterns and designs\n",
        "    towel_patterns = lines[0].split(\", \")\n",
        "    designs = lines[2:]\n",
        "\n",
        "    return towel_patterns, designs\n",
        "\n",
        "def can_make_design(towel_patterns, design):\n",
        "    # Use dynamic programming to store results for substrings\n",
        "    dp = {}\n",
        "\n",
        "    def can_form(remaining):\n",
        "        if remaining in dp:\n",
        "            return dp[remaining]\n",
        "        if not remaining:\n",
        "            return True\n",
        "\n",
        "        for pattern in towel_patterns:\n",
        "            if remaining.startswith(pattern):\n",
        "                if can_form(remaining[len(pattern):]):\n",
        "                    dp[remaining] = True\n",
        "                    return True\n",
        "\n",
        "        dp[remaining] = False\n",
        "        return False\n",
        "\n",
        "    return can_form(design)\n",
        "\n",
        "def count_possible_designs(file_path):\n",
        "    towel_patterns, designs = parse_input(file_path)\n",
        "    possible_count = 0\n",
        "\n",
        "    for design in designs:\n",
        "        if can_make_design(towel_patterns, design):\n",
        "            possible_count += 1\n",
        "\n",
        "    return possible_count\n",
        "\n",
        "if __name__ == \"__main__\":\n",
        "    input_file = \"input.txt\"  # Replace with the path to your input file\n",
        "    result = count_possible_designs(input_file)\n",
        "    print(f\"Number of possible designs: {result}\")\n"
      ]
    },
    {
      "cell_type": "code",
      "source": [
        "from collections import Counter\n",
        "\n",
        "def parse_input(file_path):\n",
        "    with open(file_path, 'r') as f:\n",
        "        lines = f.read().splitlines()\n",
        "\n",
        "    # Separate towel patterns and designs\n",
        "    towel_patterns = lines[0].split(\", \")\n",
        "    designs = lines[2:]\n",
        "\n",
        "    return towel_patterns, designs\n",
        "\n",
        "def count_ways_to_make_design(towel_patterns, design):\n",
        "    # Use dynamic programming to count the number of ways\n",
        "    dp = {}\n",
        "\n",
        "    def count_ways(remaining):\n",
        "        if remaining in dp:\n",
        "            return dp[remaining]\n",
        "        if not remaining:\n",
        "            return 1  # One way to form an empty string\n",
        "\n",
        "        total_ways = 0\n",
        "        for pattern in towel_patterns:\n",
        "            if remaining.startswith(pattern):\n",
        "                total_ways += count_ways(remaining[len(pattern):])\n",
        "\n",
        "        dp[remaining] = total_ways\n",
        "        return total_ways\n",
        "\n",
        "    return count_ways(design)\n",
        "\n",
        "def sum_of_all_ways(file_path):\n",
        "    towel_patterns, designs = parse_input(file_path)\n",
        "    total_ways = 0\n",
        "\n",
        "    for design in designs:\n",
        "        total_ways += count_ways_to_make_design(towel_patterns, design)\n",
        "\n",
        "    return total_ways\n",
        "\n",
        "if __name__ == \"__main__\":\n",
        "    input_file = \"input.txt\"  # Replace with the path to your input file\n",
        "    result = sum_of_all_ways(input_file)\n",
        "    print(f\"Total number of ways to arrange the designs: {result}\")\n"
      ],
      "metadata": {
        "colab": {
          "base_uri": "https://localhost:8080/"
        },
        "id": "2kIrdVpzRno2",
        "outputId": "a2f226e6-bc09-4cdd-b9e2-36c251db06a0"
      },
      "execution_count": 3,
      "outputs": [
        {
          "output_type": "stream",
          "name": "stdout",
          "text": [
            "Total number of ways to arrange the designs: 616957151871345\n"
          ]
        }
      ]
    }
  ]
}