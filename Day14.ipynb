{
  "nbformat": 4,
  "nbformat_minor": 0,
  "metadata": {
    "colab": {
      "provenance": [],
      "gpuType": "T4",
      "authorship_tag": "ABX9TyNko5pGSJq0M/N/mJuswt0o",
      "include_colab_link": true
    },
    "kernelspec": {
      "name": "python3",
      "display_name": "Python 3"
    },
    "language_info": {
      "name": "python"
    },
    "accelerator": "GPU"
  },
  "cells": [
    {
      "cell_type": "markdown",
      "metadata": {
        "id": "view-in-github",
        "colab_type": "text"
      },
      "source": [
        "<a href=\"https://colab.research.google.com/github/Anjalee01/Advent-Of-Code-2024/blob/main/Day14.ipynb\" target=\"_parent\"><img src=\"https://colab.research.google.com/assets/colab-badge.svg\" alt=\"Open In Colab\"/></a>"
      ]
    },
    {
      "cell_type": "code",
      "execution_count": null,
      "metadata": {
        "colab": {
          "base_uri": "https://localhost:8080/"
        },
        "id": "CvLzKNe6OiDK",
        "outputId": "33dabfd8-d8d9-48eb-9ecc-8fef2e893321"
      },
      "outputs": [
        {
          "output_type": "stream",
          "name": "stdout",
          "text": [
            "221142636\n",
            "7916\n"
          ]
        }
      ],
      "source": [
        "res = 1\n",
        "robots = []\n",
        "\n",
        "with open(\"input.txt\") as f:\n",
        "    for line in f:\n",
        "        line = line.strip().split(\" \")\n",
        "        cur_coord = (int(line[0].split(\",\")[0][2:]), int(line[0].split(\",\")[1]))\n",
        "        velocity = (int(line[1].split(\",\")[0][2:]), int(line[1].split(\",\")[1]))\n",
        "        robots.append((cur_coord, velocity))\n",
        "\n",
        "p2_robots = robots.copy()\n",
        "for i in range(100):\n",
        "    for j, robot in enumerate(robots):\n",
        "        cur_coord, velocity = robot\n",
        "        robots[j] = (\n",
        "            ((cur_coord[0] + velocity[0]) % 101, (cur_coord[1] + velocity[1]) % 103),\n",
        "            velocity,\n",
        "        )\n",
        "\n",
        "quads = [0, 0, 0, 0]\n",
        "# count quadrants\n",
        "for robot in robots:\n",
        "    cur_coord, velocity = robot\n",
        "    if cur_coord[0] < 50 and cur_coord[1] < 51:\n",
        "        quads[0] += 1\n",
        "    elif cur_coord[0] > 50 and cur_coord[1] < 51:\n",
        "        quads[1] += 1\n",
        "    elif cur_coord[0] < 50 and cur_coord[1] > 51:\n",
        "        quads[2] += 1\n",
        "    elif cur_coord[0] > 50 and cur_coord[1] > 51:\n",
        "        quads[3] += 1\n",
        "\n",
        "for quad in quads:\n",
        "    res *= quad\n",
        "\n",
        "print(res)\n",
        "\n",
        "seconds = 1\n",
        "while True:\n",
        "    visited = set()\n",
        "    for j, robot in enumerate(p2_robots):\n",
        "        cur_coord, velocity = robot\n",
        "        p2_robots[j] = (\n",
        "            ((cur_coord[0] + velocity[0]) % 101, (cur_coord[1] + velocity[1]) % 103),\n",
        "            velocity,\n",
        "        )\n",
        "        visited.add(p2_robots[j][0])\n",
        "\n",
        "    if len(visited) == len(p2_robots):\n",
        "        res = seconds\n",
        "        break\n",
        "\n",
        "    seconds += 1\n",
        "\n",
        "print(res)"
      ]
    },
    {
      "cell_type": "code",
      "source": [],
      "metadata": {
        "colab": {
          "base_uri": "https://localhost:8080/"
        },
        "id": "NqUIcTujTMUp",
        "outputId": "bb4c31d1-339d-4a1b-91f7-c12117598589"
      },
      "execution_count": null,
      "outputs": [
        {
          "output_type": "stream",
          "name": "stdout",
          "text": [
            "Seconds until Christmas Tree Pattern: 5795\n"
          ]
        }
      ]
    }
  ]
}