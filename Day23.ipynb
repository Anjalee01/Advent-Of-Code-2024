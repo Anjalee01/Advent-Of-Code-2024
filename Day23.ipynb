{
  "nbformat": 4,
  "nbformat_minor": 0,
  "metadata": {
    "colab": {
      "provenance": [],
      "gpuType": "T4",
      "authorship_tag": "ABX9TyMgHABSRv2C5rdQYf4vG5Dg",
      "include_colab_link": true
    },
    "kernelspec": {
      "name": "python3",
      "display_name": "Python 3"
    },
    "language_info": {
      "name": "python"
    },
    "accelerator": "GPU"
  },
  "cells": [
    {
      "cell_type": "markdown",
      "metadata": {
        "id": "view-in-github",
        "colab_type": "text"
      },
      "source": [
        "<a href=\"https://colab.research.google.com/github/Anjalee01/Advent-Of-Code-2024/blob/main/Day23.ipynb\" target=\"_parent\"><img src=\"https://colab.research.google.com/assets/colab-badge.svg\" alt=\"Open In Colab\"/></a>"
      ]
    },
    {
      "cell_type": "code",
      "execution_count": 1,
      "metadata": {
        "colab": {
          "base_uri": "https://localhost:8080/"
        },
        "id": "XuzLGFR-U8Dc",
        "outputId": "51b5d079-59bc-4311-ac86-24dc6a84ae7e"
      },
      "outputs": [
        {
          "output_type": "stream",
          "name": "stdout",
          "text": [
            "1337\n"
          ]
        }
      ],
      "source": [
        "from collections import defaultdict\n",
        "\n",
        "# Load the input file\n",
        "with open(\"input.txt\", 'r') as file:\n",
        "    connections = [line.strip().split('-') for line in file.readlines()]\n",
        "\n",
        "# Build the graph\n",
        "graph = defaultdict(set)\n",
        "for a, b in connections:\n",
        "    graph[a].add(b)\n",
        "    graph[b].add(a)\n",
        "\n",
        "# Find all triads (sets of three interconnected nodes)\n",
        "def find_triads(graph):\n",
        "    triads = set()\n",
        "    for node in graph:\n",
        "        neighbors = graph[node]\n",
        "        for neighbor1 in neighbors:\n",
        "            for neighbor2 in neighbors:\n",
        "                if neighbor1 != neighbor2 and neighbor2 in graph[neighbor1]:\n",
        "                    triad = tuple(sorted([node, neighbor1, neighbor2]))\n",
        "                    triads.add(triad)\n",
        "    return triads\n",
        "\n",
        "triads = find_triads(graph)\n",
        "\n",
        "# Filter triads for those containing a node starting with 't'\n",
        "triads_with_t = [triad for triad in triads if any(node.startswith('t') for node in triad)]\n",
        "\n",
        "# Output the result\n",
        "print(len(triads_with_t))"
      ]
    },
    {
      "cell_type": "code",
      "source": [
        "from collections import defaultdict\n",
        "\n",
        "\n",
        "def read_input(file_name):\n",
        "    \"\"\"Reads input from the specified file.\"\"\"\n",
        "    with open(file_name, \"r\") as file:\n",
        "        connections = [line.strip().split(\"-\") for line in file]\n",
        "    return connections\n",
        "\n",
        "\n",
        "def bron_kerbosch(graph, r, p, x, cliques):\n",
        "    \"\"\"Bron-Kerbosch algorithm to find maximal cliques.\"\"\"\n",
        "    if not p and not x:\n",
        "        cliques.append(r)\n",
        "        return\n",
        "    for v in list(p):\n",
        "        bron_kerbosch(\n",
        "            graph,\n",
        "            r.union({v}),\n",
        "            p.intersection(graph[v]),\n",
        "            x.intersection(graph[v]),\n",
        "            cliques,\n",
        "        )\n",
        "        p.remove(v)\n",
        "        x.add(v)\n",
        "\n",
        "\n",
        "def find_maximal_cliques(graph):\n",
        "    \"\"\"Finds all maximal cliques in the graph.\"\"\"\n",
        "    cliques = []\n",
        "    bron_kerbosch(graph, set(), set(graph.keys()), set(), cliques)\n",
        "    return cliques\n",
        "\n",
        "\n",
        "def find_largest_clique(cliques):\n",
        "    \"\"\"Finds the largest clique among all cliques.\"\"\"\n",
        "    return max(cliques, key=len)\n",
        "\n",
        "\n",
        "def generate_password(clique):\n",
        "    \"\"\"Generates the password from the largest clique.\"\"\"\n",
        "    return \",\".join(sorted(clique))\n",
        "\n",
        "\n",
        "def main():\n",
        "    # Input file name\n",
        "    input_file = \"input.txt\"\n",
        "\n",
        "    # Read input connections\n",
        "    connections = read_input(input_file)\n",
        "\n",
        "    # Build the adjacency list\n",
        "    graph = defaultdict(set)\n",
        "    for a, b in connections:\n",
        "        graph[a].add(b)\n",
        "        graph[b].add(a)\n",
        "\n",
        "    # Find all maximal cliques\n",
        "    cliques = find_maximal_cliques(graph)\n",
        "\n",
        "    # Find the largest clique\n",
        "    largest_clique = find_largest_clique(cliques)\n",
        "\n",
        "    # Generate the password\n",
        "    password = generate_password(largest_clique)\n",
        "    print(f\"Password to the LAN party: {password}\")\n",
        "\n",
        "\n",
        "if __name__ == \"__main__\":\n",
        "    main()"
      ],
      "metadata": {
        "colab": {
          "base_uri": "https://localhost:8080/"
        },
        "id": "YsdId-eulRVo",
        "outputId": "1dbb9f83-1d35-45c6-e920-e89e409c02bc"
      },
      "execution_count": 2,
      "outputs": [
        {
          "output_type": "stream",
          "name": "stdout",
          "text": [
            "Password to the LAN party: aw,fk,gv,hi,hp,ip,jy,kc,lk,og,pj,re,sr\n"
          ]
        }
      ]
    }
  ]
}