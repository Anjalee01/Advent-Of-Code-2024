{
  "nbformat": 4,
  "nbformat_minor": 0,
  "metadata": {
    "colab": {
      "provenance": [],
      "gpuType": "T4",
      "authorship_tag": "ABX9TyOQe1LdFUAxroN0AdQxvks/",
      "include_colab_link": true
    },
    "kernelspec": {
      "name": "python3",
      "display_name": "Python 3"
    },
    "language_info": {
      "name": "python"
    },
    "accelerator": "GPU"
  },
  "cells": [
    {
      "cell_type": "markdown",
      "metadata": {
        "id": "view-in-github",
        "colab_type": "text"
      },
      "source": [
        "<a href=\"https://colab.research.google.com/github/Anjalee01/Advent-Of-Code-2024/blob/main/Day5.ipynb\" target=\"_parent\"><img src=\"https://colab.research.google.com/assets/colab-badge.svg\" alt=\"Open In Colab\"/></a>"
      ]
    },
    {
      "cell_type": "code",
      "execution_count": 4,
      "metadata": {
        "colab": {
          "base_uri": "https://localhost:8080/"
        },
        "id": "rCWm6qw_Kz9H",
        "outputId": "ead03355-23c0-4448-bc63-0c79e06e9962"
      },
      "outputs": [
        {
          "output_type": "stream",
          "name": "stdout",
          "text": [
            "Sum of middle pages: 4872\n"
          ]
        }
      ],
      "source": [
        "# PART 1\n",
        "\n",
        "\n",
        "def parse_input(file_path):\n",
        "    \"\"\"Parse the input file to extract ordering rules and updates.\"\"\"\n",
        "    try:\n",
        "        with open(file_path, 'r') as file:\n",
        "            content = file.read()\n",
        "    except FileNotFoundError:\n",
        "        raise FileNotFoundError(f\"File not found: {file_path}. Please check the file path.\")\n",
        "\n",
        "    # Split into rules and updates sections\n",
        "    try:\n",
        "        rules_section, updates_section = content.strip().split('\\n\\n')\n",
        "    except ValueError:\n",
        "        raise ValueError(\"Input file must contain two sections separated by a blank line.\")\n",
        "\n",
        "    # Parse rules and updates\n",
        "    try:\n",
        "        rules = [tuple(map(int, line.split('|'))) for line in rules_section.splitlines()]\n",
        "        updates = [list(map(int, line.split(','))) for line in updates_section.splitlines()]\n",
        "    except ValueError:\n",
        "        raise ValueError(\"Ensure that rules use '|' and updates use ',' as delimiters, and contain only integers.\")\n",
        "\n",
        "    return rules, updates\n",
        "\n",
        "\n",
        "def is_update_valid(update, rules):\n",
        "    \"\"\"Check if an update follows the given rules.\"\"\"\n",
        "    for x, y in rules:\n",
        "        if x in update and y in update:\n",
        "            if update.index(x) > update.index(y):\n",
        "                return False\n",
        "    return True\n",
        "\n",
        "\n",
        "def sum_middle_pages(file_path):\n",
        "    \"\"\"Determine the sum of middle pages for correctly ordered updates.\"\"\"\n",
        "    # Parse input\n",
        "    rules, updates = parse_input(file_path)\n",
        "\n",
        "    total = 0\n",
        "\n",
        "    for pages in updates:\n",
        "        if is_update_valid(pages, rules):\n",
        "            # Find the middle page\n",
        "            middle_index = len(pages) // 2\n",
        "            middle_page = pages[middle_index]\n",
        "            total += middle_page\n",
        "\n",
        "    return total\n",
        "\n",
        "\n",
        "# Specify the file path directly\n",
        "file_path = 'input.txt'\n",
        "\n",
        "try:\n",
        "    # Calculate the sum of middle pages\n",
        "    result = sum_middle_pages(file_path)\n",
        "    print(\"Sum of middle pages:\", result)\n",
        "except Exception as e:\n",
        "    print(f\"An error occurred: {e}\")\n"
      ]
    },
    {
      "cell_type": "code",
      "source": [
        "# PART 2\n",
        "\n",
        "def parse_input(file_path):\n",
        "    \"\"\"Parse the input file to extract ordering rules and updates.\"\"\"\n",
        "    with open(file_path, 'r') as file:\n",
        "        content = file.read()\n",
        "\n",
        "    # Split into rules and updates sections\n",
        "    rules_section, updates_section = content.strip().split('\\n\\n')\n",
        "\n",
        "    # Parse rules and updates\n",
        "    rules = [tuple(map(int, line.split('|'))) for line in rules_section.splitlines()]\n",
        "    updates = [list(map(int, line.split(','))) for line in updates_section.splitlines()]\n",
        "\n",
        "    return rules, updates\n",
        "\n",
        "\n",
        "def is_update_valid(update, rules):\n",
        "    \"\"\"Check if an update follows the given rules.\"\"\"\n",
        "    for x, y in rules:\n",
        "        if x in update and y in update:\n",
        "            if update.index(x) > update.index(y):\n",
        "                return False\n",
        "    return True\n",
        "\n",
        "\n",
        "def reorder_update(update, rules):\n",
        "    \"\"\"Reorder an update based on the rules to make it valid.\"\"\"\n",
        "    # Create a copy to avoid modifying the original update\n",
        "    ordered_update = update[:]\n",
        "\n",
        "    # Perform a topological sort based on the rules\n",
        "    for _ in range(len(ordered_update)):\n",
        "        for x, y in rules:\n",
        "            if x in ordered_update and y in ordered_update:\n",
        "                x_index = ordered_update.index(x)\n",
        "                y_index = ordered_update.index(y)\n",
        "                if x_index > y_index:\n",
        "                    # Move x before y\n",
        "                    ordered_update.remove(x)\n",
        "                    ordered_update.insert(y_index, x)\n",
        "\n",
        "    return ordered_update\n",
        "\n",
        "\n",
        "def sum_middle_pages_for_incorrect(file_path):\n",
        "    \"\"\"Compute the sum of middle pages after reordering incorrect updates.\"\"\"\n",
        "    # Parse input\n",
        "    rules, updates = parse_input(file_path)\n",
        "\n",
        "    total = 0\n",
        "\n",
        "    for pages in updates:\n",
        "        if not is_update_valid(pages, rules):\n",
        "            # Reorder the incorrect update\n",
        "            corrected_update = reorder_update(pages, rules)\n",
        "\n",
        "            # Find the middle page\n",
        "            middle_index = len(corrected_update) // 2\n",
        "            middle_page = corrected_update[middle_index]\n",
        "            total += middle_page\n",
        "\n",
        "    return total\n",
        "\n",
        "\n",
        "# File path\n",
        "file_path = 'input.txt'  # Adjusted to use 'input.txt' as specified\n",
        "\n",
        "# Calculate the sum of middle pages for incorrectly ordered updates\n",
        "try:\n",
        "    result = sum_middle_pages_for_incorrect(file_path)\n",
        "    print(\"Sum of middle pages for incorrect updates:\", result)\n",
        "except Exception as e:\n",
        "    print(f\"An error occurred: {e}\")\n"
      ],
      "metadata": {
        "colab": {
          "base_uri": "https://localhost:8080/"
        },
        "id": "EiKd6qyjN1DI",
        "outputId": "582de741-1259-4783-a494-2978bab481ea"
      },
      "execution_count": 5,
      "outputs": [
        {
          "output_type": "stream",
          "name": "stdout",
          "text": [
            "Sum of middle pages for incorrect updates: 5564\n"
          ]
        }
      ]
    }
  ]
}