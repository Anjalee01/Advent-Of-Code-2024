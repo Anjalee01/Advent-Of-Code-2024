{
  "nbformat": 4,
  "nbformat_minor": 0,
  "metadata": {
    "colab": {
      "provenance": [],
      "authorship_tag": "ABX9TyOovK17zBmhSCo9EUYCw14w",
      "include_colab_link": true
    },
    "kernelspec": {
      "name": "python3",
      "display_name": "Python 3"
    },
    "language_info": {
      "name": "python"
    }
  },
  "cells": [
    {
      "cell_type": "markdown",
      "metadata": {
        "id": "view-in-github",
        "colab_type": "text"
      },
      "source": [
        "<a href=\"https://colab.research.google.com/github/Anjalee01/Advent-Of-Code-2024/blob/main/Day1_py.ipynb\" target=\"_parent\"><img src=\"https://colab.research.google.com/assets/colab-badge.svg\" alt=\"Open In Colab\"/></a>"
      ]
    },
    {
      "cell_type": "code",
      "execution_count": 2,
      "metadata": {
        "colab": {
          "base_uri": "https://localhost:8080/"
        },
        "id": "l10Du4eRKnkn",
        "outputId": "7b69b039-dd7c-451c-eff7-e53a5c64aeeb"
      },
      "outputs": [
        {
          "output_type": "stream",
          "name": "stdout",
          "text": [
            "1530215\n",
            "Total Distance: 1530215\n",
            "Similarity Score: 26800609\n"
          ]
        }
      ],
      "source": [
        "def calculate_total_distance(left_list, right_list):\n",
        "    # Sort both lists\n",
        "    left_sorted = sorted(left_list)\n",
        "    right_sorted = sorted(right_list)\n",
        "\n",
        "    # Calculate the total distance\n",
        "    total_distance = sum(abs(l - r) for l, r in zip(left_sorted, right_sorted))\n",
        "    return total_distance\n",
        "\n",
        "# Example input\n",
        "\n",
        "\n",
        "with open(\"input.txt\") as f:\n",
        "    lines = [[int(i) for i in l.split()] for l in f]\n",
        "# Part 1\n",
        "l1, l2 = [list(sorted(x)) for x in zip(*lines)]\n",
        "print(sum(abs(a-b) for a, b in zip(l1, l2)))\n",
        "\n",
        "# left_list = [3, 4, 2, 1, 3, 3]\n",
        "# right_list = [4, 3, 5, 3, 9, 3]\n",
        "\n",
        "# Call the function\n",
        "total_distance = calculate_total_distance(l1, l2)\n",
        "print(\"Total Distance:\", total_distance)\n",
        "\n",
        "\n",
        "\n",
        "\n",
        "# Function to calculate the similarity score\n",
        "def calculate_similarity_score(left_list, right_list):\n",
        "    # Create a frequency dictionary for the right list\n",
        "    right_freq = {}\n",
        "    for num in right_list:\n",
        "        if num in right_freq:\n",
        "            right_freq[num] += 1\n",
        "        else:\n",
        "            right_freq[num] = 1\n",
        "\n",
        "    # Calculate the similarity score\n",
        "    similarity_score = 0\n",
        "    for num in left_list:\n",
        "        if num in right_freq:\n",
        "            similarity_score += num * right_freq[num]\n",
        "\n",
        "    return similarity_score\n",
        "\n",
        "# Read the input from the file\n",
        "def read_input_file(file_path):\n",
        "    left_list = []\n",
        "    right_list = []\n",
        "\n",
        "    with open(file_path, 'r') as file:\n",
        "        for line in file:\n",
        "            left, right = map(int, line.split())\n",
        "            left_list.append(left)\n",
        "            right_list.append(right)\n",
        "\n",
        "    return left_list, right_list\n",
        "\n",
        "# Main execution\n",
        "if __name__ == \"__main__\":\n",
        "    input_file = \"input.txt\"  # Replace with the path to your input file\n",
        "    left_list, right_list = read_input_file(input_file)\n",
        "    score = calculate_similarity_score(left_list, right_list)\n",
        "    print(f\"Similarity Score: {score}\")\n",
        "\n"
      ]
    }
  ]
}