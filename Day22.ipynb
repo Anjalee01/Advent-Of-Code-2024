{
  "nbformat": 4,
  "nbformat_minor": 0,
  "metadata": {
    "colab": {
      "provenance": [],
      "gpuType": "T4",
      "authorship_tag": "ABX9TyMQzik3JRbE0Mc81mv8wkGT",
      "include_colab_link": true
    },
    "kernelspec": {
      "name": "python3",
      "display_name": "Python 3"
    },
    "language_info": {
      "name": "python"
    },
    "accelerator": "GPU"
  },
  "cells": [
    {
      "cell_type": "markdown",
      "metadata": {
        "id": "view-in-github",
        "colab_type": "text"
      },
      "source": [
        "<a href=\"https://colab.research.google.com/github/Anjalee01/Advent-Of-Code-2024/blob/main/Day22.ipynb\" target=\"_parent\"><img src=\"https://colab.research.google.com/assets/colab-badge.svg\" alt=\"Open In Colab\"/></a>"
      ]
    },
    {
      "cell_type": "code",
      "execution_count": null,
      "metadata": {
        "colab": {
          "base_uri": "https://localhost:8080/"
        },
        "id": "4nZV23Vbwtpf",
        "outputId": "ddec79ba-1ec7-4fba-dd33-38b87ba38024"
      },
      "outputs": [
        {
          "output_type": "stream",
          "name": "stdout",
          "text": [
            "The sum of the 2000th secret numbers is: 16999668565\n"
          ]
        }
      ],
      "source": [
        "# Function to evolve the secret number as per the described process\n",
        "def evolve_secret(secret):\n",
        "    # Step 1: Multiply by 64, mix, prune\n",
        "    secret ^= (secret * 64)\n",
        "    secret %= 16777216\n",
        "\n",
        "    # Step 2: Divide by 32, round down, mix, prune\n",
        "    secret ^= (secret // 32)\n",
        "    secret %= 16777216\n",
        "\n",
        "    # Step 3: Multiply by 2048, mix, prune\n",
        "    secret ^= (secret * 2048)\n",
        "    secret %= 16777216\n",
        "\n",
        "    return secret\n",
        "\n",
        "# Read input from input.txt\n",
        "with open(\"input.txt\", \"r\") as file:\n",
        "    initial_secrets = [int(line.strip()) for line in file if line.strip()]\n",
        "\n",
        "# Simulate the process for each buyer and find the 2000th secret number\n",
        "def simulate_buyers(initial_secrets, steps=2000):\n",
        "    total_sum = 0\n",
        "\n",
        "    for secret in initial_secrets:\n",
        "        for _ in range(steps):\n",
        "            secret = evolve_secret(secret)\n",
        "        total_sum += secret\n",
        "\n",
        "    return total_sum\n",
        "\n",
        "# Calculate and print the result\n",
        "result = simulate_buyers(initial_secrets)\n",
        "print(\"The sum of the 2000th secret numbers is:\", result)"
      ]
    },
    {
      "cell_type": "code",
      "source": [
        "from itertools import product\n",
        "from collections import defaultdict\n",
        "\n",
        "# Function to evolve the secret number as per the described process\n",
        "def evolve_secret(secret):\n",
        "    # Step 1: Multiply by 64, mix, prune\n",
        "    secret ^= (secret * 64)\n",
        "    secret %= 16777216\n",
        "\n",
        "    # Step 2: Divide by 32, round down, mix, prune\n",
        "    secret ^= (secret // 32)\n",
        "    secret %= 16777216\n",
        "\n",
        "    # Step 3: Multiply by 2048, mix, prune\n",
        "    secret ^= (secret * 2048)\n",
        "    secret %= 16777216\n",
        "\n",
        "    return secret\n",
        "\n",
        "# Generate prices from secret numbers\n",
        "def generate_prices(secret, steps=2000):\n",
        "    prices = []\n",
        "    for _ in range(steps):\n",
        "        secret = evolve_secret(secret)\n",
        "        prices.append(secret % 10)  # Only keep the last digit as the price\n",
        "    return prices\n",
        "\n",
        "# Calculate price changes\n",
        "def calculate_changes(prices):\n",
        "    return [prices[i] - prices[i - 1] for i in range(1, len(prices))]\n",
        "\n",
        "# Optimized function to find the best sequence\n",
        "def find_best_sequence(initial_secrets, steps=2000):\n",
        "    sequence_count = defaultdict(int)\n",
        "    sequence_prices = defaultdict(list)\n",
        "\n",
        "    # Precompute price changes for all buyers\n",
        "    for secret in initial_secrets:\n",
        "        prices = generate_prices(secret, steps)\n",
        "        changes = calculate_changes(prices)\n",
        "\n",
        "        # Use a sliding window to record all sequences of 4 changes\n",
        "        for i in range(len(changes) - 3):\n",
        "            seq = tuple(changes[i:i + 4])\n",
        "            sequence_count[seq] += 1\n",
        "            sequence_prices[seq].append(prices[i + 4])\n",
        "\n",
        "    # Find the sequence with the maximum bananas\n",
        "    max_bananas = 0\n",
        "    best_sequence = None\n",
        "\n",
        "    for seq, count in sequence_count.items():\n",
        "        total_bananas = sum(sequence_prices[seq])\n",
        "        if total_bananas > max_bananas:\n",
        "            max_bananas = total_bananas\n",
        "            best_sequence = seq\n",
        "\n",
        "    return best_sequence, max_bananas\n",
        "\n",
        "# Read input from input.txt\n",
        "with open(\"input.txt\", \"r\") as file:\n",
        "    initial_secrets = [int(line.strip()) for line in file if line.strip()]\n",
        "\n",
        "# Find the best sequence and print the result\n",
        "best_sequence, max_bananas = find_best_sequence(initial_secrets)\n",
        "print(\"The best sequence of changes is:\", best_sequence)\n",
        "print(\"The maximum bananas you can get is:\", max_bananas)\n"
      ],
      "metadata": {
        "colab": {
          "base_uri": "https://localhost:8080/"
        },
        "id": "S5PErr2Dxlll",
        "outputId": "1dc03543-9103-4574-cf1d-4afacc727cab"
      },
      "execution_count": null,
      "outputs": [
        {
          "output_type": "stream",
          "name": "stdout",
          "text": [
            "The best sequence of changes is: (0, 0, 2, 0)\n",
            "The maximum bananas you can get is: 2066\n"
          ]
        }
      ]
    },
    {
      "cell_type": "code",
      "source": [
        "def generate_next_secret(secret_number):\n",
        "    secret_number ^= (secret_number * 64) % 16777216\n",
        "    secret_number %= 16777216\n",
        "    secret_number ^= (secret_number // 32) % 16777216\n",
        "    secret_number %= 16777216\n",
        "    secret_number ^= (secret_number * 2048) % 16777216\n",
        "    secret_number %= 16777216\n",
        "    return secret_number\n",
        "\n",
        "\n",
        "def get_price_sequence(initial_secret):\n",
        "    # Generate all prices at once\n",
        "    prices = []\n",
        "    secret = initial_secret\n",
        "    for _ in range(2001):  # We need 2001 to get 2000 changes\n",
        "        prices.append(secret % 10)\n",
        "        secret = generate_next_secret(secret)\n",
        "    return prices\n",
        "\n",
        "\n",
        "def find_sequences(prices):\n",
        "    # Create a dictionary to store where each sequence appears and its corresponding price\n",
        "    sequences = {}\n",
        "    changes = []\n",
        "\n",
        "    # Calculate all changes\n",
        "    for i in range(1, len(prices)):\n",
        "        changes.append(prices[i] - prices[i - 1])\n",
        "\n",
        "    # For each position, record the 4-change sequence that starts there\n",
        "    for i in range(len(changes) - 3):\n",
        "        seq = tuple(\n",
        "            changes[i : i + 4]\n",
        "        )  # Convert to tuple so it can be used as dict key\n",
        "        if seq not in sequences:  # Only keep the first occurrence\n",
        "            sequences[seq] = prices[i + 4]\n",
        "\n",
        "    return sequences\n",
        "\n",
        "\n",
        "def main():\n",
        "    with open(\"input.txt\", \"r\") as file:\n",
        "        initial_secrets = [int(line.strip()) for line in file.readlines()]\n",
        "\n",
        "    # Pre-calculate all sequences for each buyer\n",
        "    buyer_sequences = []\n",
        "    for secret in initial_secrets:\n",
        "        prices = get_price_sequence(secret)\n",
        "        sequences = find_sequences(prices)\n",
        "        buyer_sequences.append(sequences)\n",
        "\n",
        "    # Find the sequence that appears in most buyers with highest total\n",
        "    best_total = 0\n",
        "    best_sequence = None\n",
        "\n",
        "    # Get all unique sequences that appear in any buyer's data\n",
        "    all_sequences = set()\n",
        "    for sequences in buyer_sequences:\n",
        "        all_sequences.update(sequences.keys())\n",
        "\n",
        "    # Check each sequence that actually appears in the data\n",
        "    for seq in all_sequences:\n",
        "        total = sum(sequences.get(seq, 0) for sequences in buyer_sequences)\n",
        "        if total > best_total:\n",
        "            best_total = total\n",
        "            best_sequence = seq\n",
        "\n",
        "    print(f\"Best sequence: {list(best_sequence)}\")\n",
        "    print(f\"Maximum bananas: {best_total}\")\n",
        "\n",
        "\n",
        "if __name__ == \"__main__\":\n",
        "    main()"
      ],
      "metadata": {
        "id": "LXiVN7XdevOJ",
        "colab": {
          "base_uri": "https://localhost:8080/"
        },
        "outputId": "54616e92-fb28-4cf9-d98e-0c0c23be127e"
      },
      "execution_count": 1,
      "outputs": [
        {
          "output_type": "stream",
          "name": "stdout",
          "text": [
            "Best sequence: [0, 0, 1, 2]\n",
            "Maximum bananas: 1898\n"
          ]
        }
      ]
    }
  ]
}